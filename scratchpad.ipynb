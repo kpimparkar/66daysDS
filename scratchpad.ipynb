{
 "metadata": {
  "language_info": {
   "codemirror_mode": {
    "name": "ipython",
    "version": 3
   },
   "file_extension": ".py",
   "mimetype": "text/x-python",
   "name": "python",
   "nbconvert_exporter": "python",
   "pygments_lexer": "ipython3",
   "version": "3.9.1-final"
  },
  "orig_nbformat": 2,
  "kernelspec": {
   "name": "python3",
   "display_name": "Python 3.9.1 64-bit",
   "metadata": {
    "interpreter": {
     "hash": "3d17e7abdcb82ba3b42af978890abcb420265b0c443df7501506cca9d25d276a"
    }
   }
  }
 },
 "nbformat": 4,
 "nbformat_minor": 2,
 "cells": [
  {
   "source": [
    "$\\require{color}$\n",
    "$\\colorbox{red}{Writing on yellow background!}$  \n",
    "$\\colorbox{blue}{Writing on blue background!}$  \n",
    "$\\colorbox{green}{Writing on green background!}$  \n",
    "\n",
    "| Everything | in this table | is Centered |  and the table will only take up 70% of the screen width  | \n",
    "| -- | -- | -- | -- |\n",
    "| This | is | a | Red Row |\n",
    "| This | is | an | Orange Row |\n",
    "| This | is | a | $\\colorbox{red}{Green Row}$ |\n"
   ],
   "cell_type": "markdown",
   "metadata": {}
  },
  {
   "cell_type": "code",
   "execution_count": 44,
   "metadata": {},
   "outputs": [],
   "source": [
    "from IPython.display import Markdown as md"
   ]
  },
  {
   "source": [
    "def r(text):\n",
    "    color='red'\n",
    "    return f\"$\\colorbox{{{color}}}{{{text}}}$\"\n",
    "\n",
    "table = f\"\"\"\n",
    "|col1|col2|\n",
    "| -- | -- |  \n",
    "| date | {r('abcd')} |  \n",
    "\"\"\"\n",
    "md(table)"
   ],
   "cell_type": "code",
   "metadata": {},
   "execution_count": 56,
   "outputs": [
    {
     "output_type": "execute_result",
     "data": {
      "text/plain": [
       "<IPython.core.display.Markdown object>"
      ],
      "text/markdown": "\n|col1|col2|\n| -- | -- |  \n| date | $\\colorbox{red}{abcd}$ |  \n"
     },
     "metadata": {},
     "execution_count": 56
    }
   ]
  },
  {
   "source": [
    "t = \"\"\"\n",
    "| Everything | in this table | is Centered |  and the table will only take up 70% of the screen width  | \n",
    "| -- | -- | -- | -- |\n",
    "| This | is | a | Red Row |\n",
    "| This | is | an | Orange Row |\n",
    "| This | is | a | {text} |\n",
    "\"\"\".format(text=r('check'))\n",
    "md(t)"
   ],
   "cell_type": "code",
   "metadata": {},
   "execution_count": 51,
   "outputs": [
    {
     "output_type": "execute_result",
     "data": {
      "text/plain": [
       "<IPython.core.display.Markdown object>"
      ],
      "text/markdown": "\n| Everything | in this table | is Centered |  and the table will only take up 70% of the screen width  | \n| -- | -- | -- | -- |\n| This | is | a | Red Row |\n| This | is | an | Orange Row |\n| This | is | a | $\\colorbox{red}{check}$ |\n"
     },
     "metadata": {},
     "execution_count": 51
    }
   ]
  },
  {
   "cell_type": "code",
   "execution_count": 62,
   "metadata": {},
   "outputs": [
    {
     "output_type": "stream",
     "name": "stdout",
     "text": [
      "<table border=\"0\" cellpadding=\"0\" cellspacing=\"0\" class=\"month\">\n<tr><th colspan=\"7\" class=\"month\">July 2009</th></tr>\n<tr><th class=\"sun\">Sun</th><th class=\"mon\">Mon</th><th class=\"tue\">Tue</th><th class=\"wed\">Wed</th><th class=\"thu\">Thu</th><th class=\"fri\">Fri</th><th class=\"sat\">Sat</th></tr>\n<tr><td class=\"noday\">&nbsp;</td><td class=\"noday\">&nbsp;</td><td class=\"noday\">&nbsp;</td><td class=\"wed\">1</td><td class=\"thu\">2</td><td class=\"fri\">3</td><td class=\"sat\">4</td></tr>\n<tr><td class=\"sun\">5</td><td class=\"mon\">6</td><td class=\"tue\">7</td><td class=\"wed\">8</td><td class=\"thu\">9</td><td class=\"fri\">10</td><td class=\"sat\">11</td></tr>\n<tr><td class=\"sun\">12</td><td class=\"mon\">13</td><td class=\"tue\">14</td><td class=\"wed\">15</td><td class=\"thu\">16</td><td class=\"fri\">17</td><td class=\"sat\">18</td></tr>\n<tr><td class=\"sun\">19</td><td class=\"mon\">20</td><td class=\"tue\">21</td><td class=\"wed\">22</td><td class=\"thu\">23</td><td class=\"fri\">24</td><td class=\"sat\">25</td></tr>\n<tr><td class=\"sun\">26</td><td class=\"mon\">27</td><td class=\"tue\">28</td><td class=\"wed\">29</td><td class=\"thu\">30</td><td class=\"fri\">31</td><td class=\"noday\">&nbsp;</td></tr>\n</table>\n\n"
     ]
    }
   ],
   "source": [
    "import calendar\n",
    "myCal = calendar.HTMLCalendar(calendar.SUNDAY)\n",
    "print(myCal.formatmonth(2009, 7))"
   ]
  },
  {
   "cell_type": "code",
   "execution_count": 63,
   "metadata": {},
   "outputs": [
    {
     "output_type": "execute_result",
     "data": {
      "text/plain": [
       "<IPython.core.display.Markdown object>"
      ],
      "text/markdown": "<table border=\"0\" cellpadding=\"0\" cellspacing=\"0\" class=\"month\">\n<tr><th colspan=\"7\" class=\"month\">July 2009</th></tr>\n<tr><th class=\"sun\">Sun</th><th class=\"mon\">Mon</th><th class=\"tue\">Tue</th><th class=\"wed\">Wed</th><th class=\"thu\">Thu</th><th class=\"fri\">Fri</th><th class=\"sat\">Sat</th></tr>\n<tr><td class=\"noday\">&nbsp;</td><td class=\"noday\">&nbsp;</td><td class=\"noday\">&nbsp;</td><td class=\"wed\">1</td><td class=\"thu\">2</td><td class=\"fri\">3</td><td class=\"sat\">4</td></tr>\n<tr><td class=\"sun\">5</td><td class=\"mon\">6</td><td class=\"tue\">7</td><td class=\"wed\">8</td><td class=\"thu\">9</td><td class=\"fri\">10</td><td class=\"sat\">11</td></tr>\n<tr><td class=\"sun\">12</td><td class=\"mon\">13</td><td class=\"tue\">14</td><td class=\"wed\">15</td><td class=\"thu\">16</td><td class=\"fri\">17</td><td class=\"sat\">18</td></tr>\n<tr><td class=\"sun\">19</td><td class=\"mon\">20</td><td class=\"tue\">21</td><td class=\"wed\">22</td><td class=\"thu\">23</td><td class=\"fri\">24</td><td class=\"sat\">25</td></tr>\n<tr><td class=\"sun\">26</td><td class=\"mon\">27</td><td class=\"tue\">28</td><td class=\"wed\">29</td><td class=\"thu\">30</td><td class=\"fri\">31</td><td class=\"noday\">&nbsp;</td></tr>\n</table>\n"
     },
     "metadata": {},
     "execution_count": 63
    }
   ],
   "source": [
    "import calendar\n",
    "myCal = calendar.HTMLCalendar(calendar.SUNDAY)\n",
    "md(myCal.formatmonth(2009, 7))"
   ]
  },
  {
   "cell_type": "code",
   "execution_count": 91,
   "metadata": {},
   "outputs": [
    {
     "output_type": "execute_result",
     "data": {
      "text/plain": [
       "<IPython.core.display.Markdown object>"
      ],
      "text/markdown": "<table border=\"0\" cellpadding=\"0\" cellspacing=\"0\" class=\"month\">\n<tr><th colspan=\"7\" class=\"month\">July 2009</th></tr>\n<tr><th class=\"sun\">Sun</th><th class=\"mon\">Mon</th><th class=\"tue\">Tue</th><th class=\"wed\">Wed</th><th class=\"thu\">Thu</th><th class=\"fri\">Fri</th><th class=\"sat\">Sat</th></tr>\n<tr><td class=\"noday\">&nbsp;</td><td class=\"noday\">&nbsp;</td><td class=\"noday\">&nbsp;</td><td class=\"wed\"><strong><a href=\"0\" style=\"background-color:MediumSeaGreen; color:white;font-size:150%;\" target=\"_blank\">1</a></strong></td><td class=\"thu\"><strong><a href=\"0\" style=\"background-color:MediumSeaGreen; color:white;font-size:150%;\" target=\"_blank\">2</a></strong></td><td class=\"fri\"><strong><a href=\"0\" style=\"background-color:MediumSeaGreen; color:white;font-size:150%;\" target=\"_blank\">3</a></strong></td><td class=\"sat\"><strong><a href=\"0\" style=\"background-color:MediumSeaGreen; color:white;font-size:150%;\" target=\"_blank\">4</a></strong></td></tr>\n<tr><td class=\"sun\"><strong><a href=\"0\" style=\"background-color:MediumSeaGreen; color:white;font-size:150%;\" target=\"_blank\">5</a></strong></td><td class=\"mon\"><strong><a href=\"0\" style=\"background-color:MediumSeaGreen; color:white;font-size:150%;\" target=\"_blank\">6</a></strong></td><td class=\"tue\"><strong><a href=\"0\" style=\"background-color:MediumSeaGreen; color:white;font-size:150%;\" target=\"_blank\">7</a></strong></td><td class=\"wed\"><strong><a href=\"0\" style=\"background-color:MediumSeaGreen; color:white;font-size:150%;\" target=\"_blank\">8</a></strong></td><td class=\"thu\"><strong><a href=\"0\" style=\"background-color:MediumSeaGreen; color:white;font-size:150%;\" target=\"_blank\">9</a></strong></td><td class=\"fri\"><strong><a href=\"0\" style=\"background-color:MediumSeaGreen; color:white;font-size:150%;\" target=\"_blank\">10</a></strong></td><td class=\"sat\"><strong><a href=\"0\" style=\"background-color:MediumSeaGreen; color:white;font-size:150%;\" target=\"_blank\">11</a></strong></td></tr>\n<tr><td class=\"sun\"><strong><a href=\"0\" style=\"background-color:MediumSeaGreen; color:white;font-size:150%;\" target=\"_blank\">12</a></strong></td><td class=\"mon\"><strong><a href=\"0\" style=\"background-color:MediumSeaGreen; color:white;font-size:150%;\" target=\"_blank\">13</a></strong></td><td class=\"tue\"><strong><a href=\"0\" style=\"background-color:MediumSeaGreen; color:white;font-size:150%;\" target=\"_blank\">14</a></strong></td><td class=\"wed\"><strong><a href=\"0\" style=\"background-color:MediumSeaGreen; color:white;font-size:150%;\" target=\"_blank\">15</a></strong></td><td class=\"thu\"><strong><a href=\"0\" style=\"background-color:MediumSeaGreen; color:white;font-size:150%;\" target=\"_blank\">16</a></strong></td><td class=\"fri\"><strong><a href=\"0\" style=\"background-color:MediumSeaGreen; color:white;font-size:150%;\" target=\"_blank\">17</a></strong></td><td class=\"sat\"><strong><a href=\"0\" style=\"background-color:MediumSeaGreen; color:white;font-size:150%;\" target=\"_blank\">18</a></strong></td></tr>\n<tr><td class=\"sun\"><strong><a href=\"0\" style=\"background-color:MediumSeaGreen; color:white;font-size:150%;\" target=\"_blank\">19</a></strong></td><td class=\"mon\"><strong><a href=\"0\" style=\"background-color:MediumSeaGreen; color:white;font-size:150%;\" target=\"_blank\">20</a></strong></td><td class=\"tue\"><strong><a href=\"0\" style=\"background-color:MediumSeaGreen; color:white;font-size:150%;\" target=\"_blank\">21</a></strong></td><td class=\"wed\"><strong><a href=\"0\" style=\"background-color:MediumSeaGreen; color:white;font-size:150%;\" target=\"_blank\">22</a></strong></td><td class=\"thu\"><strong><a href=\"0\" style=\"background-color:MediumSeaGreen; color:white;font-size:150%;\" target=\"_blank\">23</a></strong></td><td class=\"fri\"><strong><a href=\"0\" style=\"background-color:MediumSeaGreen; color:white;font-size:150%;\" target=\"_blank\">24</a></strong></td><td class=\"sat\"><strong><a href=\"0\" style=\"background-color:MediumSeaGreen; color:white;font-size:150%;\" target=\"_blank\">25</a></strong></td></tr>\n<tr><td class=\"sun\"><strong><a href=\"0\" style=\"background-color:MediumSeaGreen; color:white;font-size:150%;\" target=\"_blank\">26</a></strong></td><td class=\"mon\"><strong><a href=\"0\" style=\"background-color:MediumSeaGreen; color:white;font-size:150%;\" target=\"_blank\">27</a></strong></td><td class=\"tue\"><strong><a href=\"0\" style=\"background-color:MediumSeaGreen; color:white;font-size:150%;\" target=\"_blank\">28</a></strong></td><td class=\"wed\"><strong><a href=\"0\" style=\"background-color:MediumSeaGreen; color:white;font-size:150%;\" target=\"_blank\">29</a></strong></td><td class=\"thu\"><strong><a href=\"0\" style=\"background-color:MediumSeaGreen; color:white;font-size:150%;\" target=\"_blank\">30</a></strong></td><td class=\"fri\"><strong><a href=\"0\" style=\"background-color:MediumSeaGreen; color:white;font-size:150%;\" target=\"_blank\">31</a></strong></td><td class=\"noday\">&nbsp;</td></tr>\n</table>\n"
     },
     "metadata": {},
     "execution_count": 91
    }
   ],
   "source": [
    "from calendar import HTMLCalendar\n",
    "class EmployeeScheduleCalendar(HTMLCalendar):\n",
    "    def formatday(self, day, weekday):\n",
    "        \"\"\"\n",
    "          Return a day as a table cell.\n",
    "        \"\"\"\n",
    "        if day == 0:\n",
    "            return '<td class=\"noday\">&nbsp;</td>' # day outside month\n",
    "        else:\n",
    "            return '<td class=\"{}\"><strong><a href=\"0\" style=\"background-color:MediumSeaGreen; color:white;font-size:150%;\" target=\"_blank\">{}</a></strong></td>'.format(self.cssclasses[weekday], day)\n",
    "\n",
    "\n",
    "myCal2 = EmployeeScheduleCalendar(calendar.SUNDAY)\n",
    "md(myCal2.formatmonth(2009, 7))"
   ]
  },
  {
   "source": [
    "- https://data-dive.com/jupyterlab-markdown-cells-include-variables"
   ],
   "cell_type": "markdown",
   "metadata": {}
  },
  {
   "cell_type": "code",
   "execution_count": 7,
   "metadata": {},
   "outputs": [],
   "source": [
    "from IPython.display import Markdown as md\n",
    "from calendar import HTMLCalendar\n",
    "from datetime import datetime, timedelta\n",
    "import sys\n",
    "from dateutil.relativedelta import relativedelta\n",
    "\n",
    "class CustomHTMLCalendar(HTMLCalendar):\n",
    "    \"\"\"\n",
    "    Custom class to print out HTML calendar for given number of days. The class \n",
    "    creates <href> tag for days falling between the said range.\n",
    "    \"\"\"\n",
    "    def __init__(self, start_date, num_of_days):\n",
    "        \"\"\"\n",
    "        start_date: YYYY-MM-DD, count days starting from this date\n",
    "        num_of_days: number of days to display\n",
    "        \"\"\"\n",
    "        super().__init__(0)\n",
    "        self.start_date = start_date\n",
    "        self.num_of_days = num_of_days\n",
    "        self.start_date_fmt = \"%Y-%m-%d\"\n",
    "\n",
    "        try:\n",
    "            self.start_date_formatted = datetime.strptime(self.start_date, self.start_date_fmt)\n",
    "        except ValueError:\n",
    "            print(\"Start date is in invalid format. Need YYYY-MM-DD format.\")\n",
    "            raise \n",
    "        except Exception as e:\n",
    "            print(\"Error in date conversion, please check: \", e)\n",
    "            raise\n",
    "        else:\n",
    "            self.dd = self.start_date_formatted.day\n",
    "            self.month = self.start_date_formatted.month \n",
    "            self.year = self.start_date_formatted.year\n",
    "\n",
    "            self.end_date = self.start_date_formatted + timedelta(days=self.num_of_days)\n",
    "            print(f\"The end date is {self.end_date}\")\n",
    "\n",
    "\n",
    "    def formatday(self, day, weekday):\n",
    "        \"\"\"\n",
    "          Return a day as a table cell.\n",
    "        \"\"\"\n",
    "        # print(day, \"====> \", self._curr_date.day, self._curr_date.month, self._curr_date.year)\n",
    "        if day != 0:\n",
    "            self._print_date = datetime(self._curr_date.year, self._curr_date.month, day)\n",
    "        if day == 0: \n",
    "            # day outside month\n",
    "            return '<td class=\"noday\">&nbsp;</td>' \n",
    "        elif self._print_date >= self.start_date_formatted and self._print_date <= self.end_date:\n",
    "            # day with the date range \n",
    "            return '<td class=\"{}\"><strong><a href=\"0\" style=\"background-color:MediumSeaGreen; color:white;font-size:150%;\" target=\"_blank\">{}</a></strong></td>'.format(self.cssclasses[weekday], day)\n",
    "        else:\n",
    "            # day outside of the daterange\n",
    "            return '<td class=\"%s\">%d</td>' % (self.cssclasses[weekday], day)\n",
    "            \n",
    "\n",
    "    def show_calendar(self):\n",
    "        self._curr_date = self.start_date_formatted\n",
    "        \n",
    "        while self._curr_date < self.end_date:\n",
    "            if self._curr_date.month == self.end_date.month and \\\n",
    "                self._curr_date.year  == self.end_date.year:\n",
    "                print(self._curr_date)\n",
    "                md(self.formatmonth(self._curr_date.year, self._curr_date.month))\n",
    "                break\n",
    "            else:\n",
    "                print(self._curr_date)\n",
    "                md(self.formatmonth(self._curr_date.year, self._curr_date.month))\n",
    "            self._curr_date += relativedelta(months=1)"
   ]
  },
  {
   "cell_type": "code",
   "execution_count": 8,
   "metadata": {},
   "outputs": [
    {
     "output_type": "stream",
     "name": "stdout",
     "text": [
      "The end date is 2021-03-14 00:00:00\n2021-01-07 00:00:00\n2021-02-07 00:00:00\n2021-03-07 00:00:00\n"
     ]
    }
   ],
   "source": [
    "myCal = CustomHTMLCalendar(start_date='2021-01-07', num_of_days=66)\n",
    "myCal.show_calendar()"
   ]
  }
 ]
}