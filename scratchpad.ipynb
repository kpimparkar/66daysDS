{
 "metadata": {
  "language_info": {
   "codemirror_mode": {
    "name": "ipython",
    "version": 3
   },
   "file_extension": ".py",
   "mimetype": "text/x-python",
   "name": "python",
   "nbconvert_exporter": "python",
   "pygments_lexer": "ipython3",
   "version": "3.9.1-final"
  },
  "orig_nbformat": 2,
  "kernelspec": {
   "name": "python3",
   "display_name": "Python 3.9.1 64-bit",
   "metadata": {
    "interpreter": {
     "hash": "3d17e7abdcb82ba3b42af978890abcb420265b0c443df7501506cca9d25d276a"
    }
   }
  }
 },
 "nbformat": 4,
 "nbformat_minor": 2,
 "cells": [
  {
   "source": [
    "$\\require{color}$\n",
    "$\\colorbox{red}{Writing on yellow background!}$  \n",
    "$\\colorbox{blue}{Writing on blue background!}$  \n",
    "$\\colorbox{green}{Writing on green background!}$  \n",
    "\n",
    "| Everything | in this table | is Centered |  and the table will only take up 70% of the screen width  | \n",
    "| -- | -- | -- | -- |\n",
    "| This | is | a | Red Row |\n",
    "| This | is | an | Orange Row |\n",
    "| This | is | a | $\\colorbox{red}{Green Row}$ |\n"
   ],
   "cell_type": "markdown",
   "metadata": {}
  },
  {
   "cell_type": "code",
   "execution_count": 44,
   "metadata": {},
   "outputs": [],
   "source": [
    "from IPython.display import Markdown as md"
   ]
  },
  {
   "source": [
    "def r(text):\n",
    "    color='red'\n",
    "    return f\"$\\colorbox{{{color}}}{{{text}}}$\"\n",
    "\n",
    "table = f\"\"\"\n",
    "|col1|col2|\n",
    "| -- | -- |  \n",
    "| date | {r('abcd')} |  \n",
    "\"\"\"\n",
    "md(table)"
   ],
   "cell_type": "code",
   "metadata": {},
   "execution_count": 56,
   "outputs": [
    {
     "output_type": "execute_result",
     "data": {
      "text/plain": [
       "<IPython.core.display.Markdown object>"
      ],
      "text/markdown": "\n|col1|col2|\n| -- | -- |  \n| date | $\\colorbox{red}{abcd}$ |  \n"
     },
     "metadata": {},
     "execution_count": 56
    }
   ]
  },
  {
   "source": [
    "t = \"\"\"\n",
    "| Everything | in this table | is Centered |  and the table will only take up 70% of the screen width  | \n",
    "| -- | -- | -- | -- |\n",
    "| This | is | a | Red Row |\n",
    "| This | is | an | Orange Row |\n",
    "| This | is | a | {text} |\n",
    "\"\"\".format(text=r('check'))\n",
    "md(t)"
   ],
   "cell_type": "code",
   "metadata": {},
   "execution_count": 51,
   "outputs": [
    {
     "output_type": "execute_result",
     "data": {
      "text/plain": [
       "<IPython.core.display.Markdown object>"
      ],
      "text/markdown": "\n| Everything | in this table | is Centered |  and the table will only take up 70% of the screen width  | \n| -- | -- | -- | -- |\n| This | is | a | Red Row |\n| This | is | an | Orange Row |\n| This | is | a | $\\colorbox{red}{check}$ |\n"
     },
     "metadata": {},
     "execution_count": 51
    }
   ]
  },
  {
   "cell_type": "code",
   "execution_count": 62,
   "metadata": {},
   "outputs": [
    {
     "output_type": "stream",
     "name": "stdout",
     "text": [
      "<table border=\"0\" cellpadding=\"0\" cellspacing=\"0\" class=\"month\">\n<tr><th colspan=\"7\" class=\"month\">July 2009</th></tr>\n<tr><th class=\"sun\">Sun</th><th class=\"mon\">Mon</th><th class=\"tue\">Tue</th><th class=\"wed\">Wed</th><th class=\"thu\">Thu</th><th class=\"fri\">Fri</th><th class=\"sat\">Sat</th></tr>\n<tr><td class=\"noday\">&nbsp;</td><td class=\"noday\">&nbsp;</td><td class=\"noday\">&nbsp;</td><td class=\"wed\">1</td><td class=\"thu\">2</td><td class=\"fri\">3</td><td class=\"sat\">4</td></tr>\n<tr><td class=\"sun\">5</td><td class=\"mon\">6</td><td class=\"tue\">7</td><td class=\"wed\">8</td><td class=\"thu\">9</td><td class=\"fri\">10</td><td class=\"sat\">11</td></tr>\n<tr><td class=\"sun\">12</td><td class=\"mon\">13</td><td class=\"tue\">14</td><td class=\"wed\">15</td><td class=\"thu\">16</td><td class=\"fri\">17</td><td class=\"sat\">18</td></tr>\n<tr><td class=\"sun\">19</td><td class=\"mon\">20</td><td class=\"tue\">21</td><td class=\"wed\">22</td><td class=\"thu\">23</td><td class=\"fri\">24</td><td class=\"sat\">25</td></tr>\n<tr><td class=\"sun\">26</td><td class=\"mon\">27</td><td class=\"tue\">28</td><td class=\"wed\">29</td><td class=\"thu\">30</td><td class=\"fri\">31</td><td class=\"noday\">&nbsp;</td></tr>\n</table>\n\n"
     ]
    }
   ],
   "source": [
    "import calendar\n",
    "myCal = calendar.HTMLCalendar(calendar.SUNDAY)\n",
    "print(myCal.formatmonth(2009, 7))"
   ]
  },
  {
   "cell_type": "code",
   "execution_count": 63,
   "metadata": {},
   "outputs": [
    {
     "output_type": "execute_result",
     "data": {
      "text/plain": [
       "<IPython.core.display.Markdown object>"
      ],
      "text/markdown": "<table border=\"0\" cellpadding=\"0\" cellspacing=\"0\" class=\"month\">\n<tr><th colspan=\"7\" class=\"month\">July 2009</th></tr>\n<tr><th class=\"sun\">Sun</th><th class=\"mon\">Mon</th><th class=\"tue\">Tue</th><th class=\"wed\">Wed</th><th class=\"thu\">Thu</th><th class=\"fri\">Fri</th><th class=\"sat\">Sat</th></tr>\n<tr><td class=\"noday\">&nbsp;</td><td class=\"noday\">&nbsp;</td><td class=\"noday\">&nbsp;</td><td class=\"wed\">1</td><td class=\"thu\">2</td><td class=\"fri\">3</td><td class=\"sat\">4</td></tr>\n<tr><td class=\"sun\">5</td><td class=\"mon\">6</td><td class=\"tue\">7</td><td class=\"wed\">8</td><td class=\"thu\">9</td><td class=\"fri\">10</td><td class=\"sat\">11</td></tr>\n<tr><td class=\"sun\">12</td><td class=\"mon\">13</td><td class=\"tue\">14</td><td class=\"wed\">15</td><td class=\"thu\">16</td><td class=\"fri\">17</td><td class=\"sat\">18</td></tr>\n<tr><td class=\"sun\">19</td><td class=\"mon\">20</td><td class=\"tue\">21</td><td class=\"wed\">22</td><td class=\"thu\">23</td><td class=\"fri\">24</td><td class=\"sat\">25</td></tr>\n<tr><td class=\"sun\">26</td><td class=\"mon\">27</td><td class=\"tue\">28</td><td class=\"wed\">29</td><td class=\"thu\">30</td><td class=\"fri\">31</td><td class=\"noday\">&nbsp;</td></tr>\n</table>\n"
     },
     "metadata": {},
     "execution_count": 63
    }
   ],
   "source": [
    "import calendar\n",
    "myCal = calendar.HTMLCalendar(calendar.SUNDAY)\n",
    "md(myCal.formatmonth(2009, 7))"
   ]
  },
  {
   "cell_type": "code",
   "execution_count": 91,
   "metadata": {},
   "outputs": [
    {
     "output_type": "execute_result",
     "data": {
      "text/plain": [
       "<IPython.core.display.Markdown object>"
      ],
      "text/markdown": "<table border=\"0\" cellpadding=\"0\" cellspacing=\"0\" class=\"month\">\n<tr><th colspan=\"7\" class=\"month\">July 2009</th></tr>\n<tr><th class=\"sun\">Sun</th><th class=\"mon\">Mon</th><th class=\"tue\">Tue</th><th class=\"wed\">Wed</th><th class=\"thu\">Thu</th><th class=\"fri\">Fri</th><th class=\"sat\">Sat</th></tr>\n<tr><td class=\"noday\">&nbsp;</td><td class=\"noday\">&nbsp;</td><td class=\"noday\">&nbsp;</td><td class=\"wed\"><strong><a href=\"0\" style=\"background-color:MediumSeaGreen; color:white;font-size:150%;\" target=\"_blank\">1</a></strong></td><td class=\"thu\"><strong><a href=\"0\" style=\"background-color:MediumSeaGreen; color:white;font-size:150%;\" target=\"_blank\">2</a></strong></td><td class=\"fri\"><strong><a href=\"0\" style=\"background-color:MediumSeaGreen; color:white;font-size:150%;\" target=\"_blank\">3</a></strong></td><td class=\"sat\"><strong><a href=\"0\" style=\"background-color:MediumSeaGreen; color:white;font-size:150%;\" target=\"_blank\">4</a></strong></td></tr>\n<tr><td class=\"sun\"><strong><a href=\"0\" style=\"background-color:MediumSeaGreen; color:white;font-size:150%;\" target=\"_blank\">5</a></strong></td><td class=\"mon\"><strong><a href=\"0\" style=\"background-color:MediumSeaGreen; color:white;font-size:150%;\" target=\"_blank\">6</a></strong></td><td class=\"tue\"><strong><a href=\"0\" style=\"background-color:MediumSeaGreen; color:white;font-size:150%;\" target=\"_blank\">7</a></strong></td><td class=\"wed\"><strong><a href=\"0\" style=\"background-color:MediumSeaGreen; color:white;font-size:150%;\" target=\"_blank\">8</a></strong></td><td class=\"thu\"><strong><a href=\"0\" style=\"background-color:MediumSeaGreen; color:white;font-size:150%;\" target=\"_blank\">9</a></strong></td><td class=\"fri\"><strong><a href=\"0\" style=\"background-color:MediumSeaGreen; color:white;font-size:150%;\" target=\"_blank\">10</a></strong></td><td class=\"sat\"><strong><a href=\"0\" style=\"background-color:MediumSeaGreen; color:white;font-size:150%;\" target=\"_blank\">11</a></strong></td></tr>\n<tr><td class=\"sun\"><strong><a href=\"0\" style=\"background-color:MediumSeaGreen; color:white;font-size:150%;\" target=\"_blank\">12</a></strong></td><td class=\"mon\"><strong><a href=\"0\" style=\"background-color:MediumSeaGreen; color:white;font-size:150%;\" target=\"_blank\">13</a></strong></td><td class=\"tue\"><strong><a href=\"0\" style=\"background-color:MediumSeaGreen; color:white;font-size:150%;\" target=\"_blank\">14</a></strong></td><td class=\"wed\"><strong><a href=\"0\" style=\"background-color:MediumSeaGreen; color:white;font-size:150%;\" target=\"_blank\">15</a></strong></td><td class=\"thu\"><strong><a href=\"0\" style=\"background-color:MediumSeaGreen; color:white;font-size:150%;\" target=\"_blank\">16</a></strong></td><td class=\"fri\"><strong><a href=\"0\" style=\"background-color:MediumSeaGreen; color:white;font-size:150%;\" target=\"_blank\">17</a></strong></td><td class=\"sat\"><strong><a href=\"0\" style=\"background-color:MediumSeaGreen; color:white;font-size:150%;\" target=\"_blank\">18</a></strong></td></tr>\n<tr><td class=\"sun\"><strong><a href=\"0\" style=\"background-color:MediumSeaGreen; color:white;font-size:150%;\" target=\"_blank\">19</a></strong></td><td class=\"mon\"><strong><a href=\"0\" style=\"background-color:MediumSeaGreen; color:white;font-size:150%;\" target=\"_blank\">20</a></strong></td><td class=\"tue\"><strong><a href=\"0\" style=\"background-color:MediumSeaGreen; color:white;font-size:150%;\" target=\"_blank\">21</a></strong></td><td class=\"wed\"><strong><a href=\"0\" style=\"background-color:MediumSeaGreen; color:white;font-size:150%;\" target=\"_blank\">22</a></strong></td><td class=\"thu\"><strong><a href=\"0\" style=\"background-color:MediumSeaGreen; color:white;font-size:150%;\" target=\"_blank\">23</a></strong></td><td class=\"fri\"><strong><a href=\"0\" style=\"background-color:MediumSeaGreen; color:white;font-size:150%;\" target=\"_blank\">24</a></strong></td><td class=\"sat\"><strong><a href=\"0\" style=\"background-color:MediumSeaGreen; color:white;font-size:150%;\" target=\"_blank\">25</a></strong></td></tr>\n<tr><td class=\"sun\"><strong><a href=\"0\" style=\"background-color:MediumSeaGreen; color:white;font-size:150%;\" target=\"_blank\">26</a></strong></td><td class=\"mon\"><strong><a href=\"0\" style=\"background-color:MediumSeaGreen; color:white;font-size:150%;\" target=\"_blank\">27</a></strong></td><td class=\"tue\"><strong><a href=\"0\" style=\"background-color:MediumSeaGreen; color:white;font-size:150%;\" target=\"_blank\">28</a></strong></td><td class=\"wed\"><strong><a href=\"0\" style=\"background-color:MediumSeaGreen; color:white;font-size:150%;\" target=\"_blank\">29</a></strong></td><td class=\"thu\"><strong><a href=\"0\" style=\"background-color:MediumSeaGreen; color:white;font-size:150%;\" target=\"_blank\">30</a></strong></td><td class=\"fri\"><strong><a href=\"0\" style=\"background-color:MediumSeaGreen; color:white;font-size:150%;\" target=\"_blank\">31</a></strong></td><td class=\"noday\">&nbsp;</td></tr>\n</table>\n"
     },
     "metadata": {},
     "execution_count": 91
    }
   ],
   "source": [
    "from calendar import HTMLCalendar\n",
    "class EmployeeScheduleCalendar(HTMLCalendar):\n",
    "    def formatday(self, day, weekday):\n",
    "        \"\"\"\n",
    "          Return a day as a table cell.\n",
    "        \"\"\"\n",
    "        if day == 0:\n",
    "            return '<td class=\"noday\">&nbsp;</td>' # day outside month\n",
    "        else:\n",
    "            return '<td class=\"{}\"><strong><a href=\"0\" style=\"background-color:MediumSeaGreen; color:white;font-size:150%;\" target=\"_blank\">{}</a></strong></td>'.format(self.cssclasses[weekday], day)\n",
    "\n",
    "\n",
    "myCal2 = EmployeeScheduleCalendar(calendar.SUNDAY)\n",
    "md(myCal2.formatmonth(2009, 7))"
   ]
  },
  {
   "source": [
    "- https://data-dive.com/jupyterlab-markdown-cells-include-variables"
   ],
   "cell_type": "markdown",
   "metadata": {}
  }
 ]
}